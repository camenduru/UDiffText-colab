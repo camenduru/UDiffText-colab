{
  "cells": [
    {
      "cell_type": "markdown",
      "metadata": {
        "id": "view-in-github"
      },
      "source": [
        "[![Open In Colab](https://colab.research.google.com/assets/colab-badge.svg)](https://colab.research.google.com/github/camenduru/UDiffText-colab/blob/main/UDiffText_colab.ipynb)"
      ]
    },
    {
      "cell_type": "code",
      "execution_count": null,
      "metadata": {
        "id": "VjYy0F2gZIPR"
      },
      "outputs": [],
      "source": [
        "%cd /content\n",
        "!git clone -b dev https://github.com/camenduru/UDiffText-hf\n",
        "\n",
        "!pip install -q einops==0.6.1 gradio==3.41.0 pytorch-fid==0.3.0 huggingface-hub==0.19.4\n",
        "!pip install -q https://download.pytorch.org/whl/cu121/xformers-0.0.22.post7-cp310-cp310-manylinux2014_x86_64.whl\n",
        "!pip install -q img2dataset==1.42.0 kornia==0.6.9 lpips==0.1.4 omegaconf==2.3.0 open-clip-torch==2.20.0 pytorch-lightning==2.0.1 timm==0.9.2\n",
        "# !pip uninstall -y lightning-fabric\n",
        "\n",
        "!apt -y install -qq aria2\n",
        "!aria2c --console-log-level=error -c -x 16 -s 16 -k 1M https://huggingface.co/camenduru/UDiffText/resolve/main/AE_inpainting_2.safetensors -d /content/UDiffText-hf/checkpoints/AEs -o AE_inpainting_2.safetensors\n",
        "!aria2c --console-log-level=error -c -x 16 -s 16 -k 1M https://huggingface.co/camenduru/UDiffText/resolve/main/epoch%3D19-step%3D7820.ckpt -d /content/UDiffText-hf/checkpoints/encoders/LabelEncoder -o epoch=19-step=7820.ckpt\n",
        "!aria2c --console-log-level=error -c -x 16 -s 16 -k 1M https://huggingface.co/camenduru/UDiffText/resolve/main/st-step%3D100000%2Bla-step%3D100000-v1.ckpt -d /content/UDiffText-hf/checkpoints -o st-step=100000+la-step=100000-v1.ckpt\n",
        "\n",
        "!aria2c --console-log-level=error -c -x 16 -s 16 -k 1M https://huggingface.co/spaces/ZYMPKU/UDiffText/resolve/main/demo/teaser.png -d /content/UDiffText-hf/demo -o teaser.png\n",
        "!aria2c --console-log-level=error -c -x 16 -s 16 -k 1M https://huggingface.co/spaces/ZYMPKU/UDiffText/resolve/main/demo/examples/DIRTY_0_0.png -d /content/UDiffText-hf/demo/examples -o DIRTY_0_0.png\n",
        "!aria2c --console-log-level=error -c -x 16 -s 16 -k 1M https://huggingface.co/spaces/ZYMPKU/UDiffText/resolve/main/demo/examples/ENGINE_0_0.png -d /content/UDiffText-hf/demo/examples -o ENGINE_0_0.png\n",
        "!aria2c --console-log-level=error -c -x 16 -s 16 -k 1M https://huggingface.co/spaces/ZYMPKU/UDiffText/resolve/main/demo/examples/FAVOURITE_0_0.jpeg -d /content/UDiffText-hf/demo/examples -o FAVOURITE_0_0.jpeg\n",
        "!aria2c --console-log-level=error -c -x 16 -s 16 -k 1M https://huggingface.co/spaces/ZYMPKU/UDiffText/resolve/main/demo/examples/FRONTIER_0_0.png -d /content/UDiffText-hf/demo/examples -o FRONTIER_0_0.png\n",
        "!aria2c --console-log-level=error -c -x 16 -s 16 -k 1M https://huggingface.co/spaces/ZYMPKU/UDiffText/resolve/main/demo/examples/Peaceful_0_0.jpeg -d /content/UDiffText-hf/demo/examples -o Peaceful_0_0.jpeg\n",
        "!aria2c --console-log-level=error -c -x 16 -s 16 -k 1M https://huggingface.co/spaces/ZYMPKU/UDiffText/resolve/main/demo/examples/Scamps_0_0.png -d /content/UDiffText-hf/demo/examples -o Scamps_0_0.png\n",
        "!aria2c --console-log-level=error -c -x 16 -s 16 -k 1M https://huggingface.co/spaces/ZYMPKU/UDiffText/resolve/main/demo/examples/TREE_0_0.png -d /content/UDiffText-hf/demo/examples -o TREE_0_0.png\n",
        "!aria2c --console-log-level=error -c -x 16 -s 16 -k 1M https://huggingface.co/spaces/ZYMPKU/UDiffText/resolve/main/demo/examples/better_0_0.jpg -d /content/UDiffText-hf/demo/examples -o better_0_0.jpg\n",
        "!aria2c --console-log-level=error -c -x 16 -s 16 -k 1M https://huggingface.co/spaces/ZYMPKU/UDiffText/resolve/main/demo/examples/tested_0_0.png -d /content/UDiffText-hf/demo/examples -o tested_0_0.png\n",
        "\n",
        "%cd /content/UDiffText-hf\n",
        "!python app.py"
      ]
    }
  ],
  "metadata": {
    "accelerator": "GPU",
    "colab": {
      "gpuType": "T4",
      "provenance": []
    },
    "kernelspec": {
      "display_name": "Python 3",
      "name": "python3"
    },
    "language_info": {
      "name": "python"
    }
  },
  "nbformat": 4,
  "nbformat_minor": 0
}
